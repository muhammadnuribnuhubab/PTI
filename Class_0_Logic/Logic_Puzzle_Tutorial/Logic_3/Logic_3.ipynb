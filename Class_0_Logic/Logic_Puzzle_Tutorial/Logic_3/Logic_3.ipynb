{
  "nbformat": 4,
  "nbformat_minor": 0,
  "metadata": {
    "colab": {
      "provenance": []
    },
    "kernelspec": {
      "name": "python3",
      "display_name": "Python 3"
    },
    "language_info": {
      "name": "python"
    }
  },
  "cells": [
    {
      "cell_type": "markdown",
      "source": [
        "# **Logic 3**"
      ],
      "metadata": {
        "id": "0EYQZOmHvU-X"
      }
    },
    {
      "cell_type": "code",
      "source": [
        "print('==== LOGIC 3 ====')\n",
        "print()\n",
        "print()\n",
        "\n",
        "SIZE = 9\n",
        "\n",
        "print('Soal 1')\n",
        "print()\n",
        "f1 = 1\n",
        "f2 = 1\n",
        "for i in range(SIZE):\n",
        "  print(f1, end = ' ')\n",
        "  fn = f1 + f2\n",
        "  f1 = f2\n",
        "  f2 = fn\n",
        "\n",
        "print()\n",
        "print()\n",
        "print()\n",
        "\n",
        "print('Soal 2')\n",
        "print()\n",
        "f1 = 1\n",
        "f2 = 1\n",
        "f3 = 1\n",
        "for i in range(SIZE):\n",
        "  print(f1, end = ' ')\n",
        "  fn = f1 + f2 + f3\n",
        "  f1 = f2\n",
        "  f2 = f3\n",
        "  f3 = fn\n",
        "\n",
        "print()\n",
        "print()\n",
        "print()\n",
        "\n",
        "\n",
        "print('Soal 3')\n",
        "print()\n",
        "a = 120\n",
        "b = 36\n",
        "nilai_a = a\n",
        "nilai_b = b\n",
        "\n",
        "# FPB\n",
        "while (b != 0):\n",
        "  r = a % b\n",
        "  a, b = b, r\n",
        "\n",
        "fpb = a\n",
        "print(f'FPB dari {nilai_a} dan {nilai_b} adalah {fpb}')\n",
        "\n",
        "# KPK\n",
        "kpk = (nilai_a * nilai_b) // fpb\n",
        "print(f'KPK dari {nilai_a} dan {nilai_b} adalah {kpk}')\n",
        "\n",
        "print()\n",
        "print()\n",
        "\n",
        "\n",
        "print('Soal 4')\n",
        "print()\n",
        "for row in range(1, SIZE + 1):\n",
        "    for col in range(1, SIZE + 1):\n",
        "        if(row == col):\n",
        "          print((row + col - 1), end = '')\n",
        "        elif(row + col == SIZE + 1):\n",
        "          print(((col * 2) - 2), end = '')\n",
        "        elif(row <= col and row + col <= SIZE + 1):\n",
        "          print('A', end = '')\n",
        "        elif(row <= col and row + col >= SIZE + 1):\n",
        "          print('B', end = '')\n",
        "        elif(row >= col and row + col >= SIZE + 1):\n",
        "          print('C', end = '')\n",
        "        elif(row >= col and row + col <= SIZE + 1):\n",
        "          print('D', end = '')\n",
        "        else:\n",
        "          print(' ', end = '')\n",
        "    print()\n",
        "print()\n"
      ],
      "metadata": {
        "id": "1dECOSDjJkZb",
        "colab": {
          "base_uri": "https://localhost:8080/"
        },
        "outputId": "6bf54d07-33c0-4c2b-be7c-f53d5d0b57cd"
      },
      "execution_count": 14,
      "outputs": [
        {
          "output_type": "stream",
          "name": "stdout",
          "text": [
            "==== LOGIC 3 ====\n",
            "\n",
            "\n",
            "Soal 1\n",
            "\n",
            "1 1 2 3 5 8 13 21 34 \n",
            "\n",
            "\n",
            "Soal 2\n",
            "\n",
            "1 1 1 3 5 9 17 31 57 \n",
            "\n",
            "\n",
            "Soal 3\n",
            "\n",
            "FPB dari 120 dan 36 adalah 12\n",
            "KPK dari 120 dan 36 adalah 360\n",
            "\n",
            "\n",
            "Soal 4\n",
            "\n",
            "1AAAAAAA16\n",
            "D3AAAAA14B\n",
            "DD5AAA12BB\n",
            "DDD7A10BBB\n",
            "DDDD9BBBB\n",
            "DDD6C11BBB\n",
            "DD4CCC13BB\n",
            "D2CCCCC15B\n",
            "0CCCCCCC17\n",
            "\n"
          ]
        }
      ]
    }
  ]
}